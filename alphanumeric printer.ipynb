{
 "cells": [
  {
   "cell_type": "code",
   "execution_count": 1,
   "id": "42048e62",
   "metadata": {},
   "outputs": [
    {
     "name": "stdout",
     "output_type": "stream",
     "text": [
      "['a', 'b', 'c', 'd', 'e']\n",
      "['1', '4', '8', '7', '8', '9', '4', '5', '1', '7']\n",
      "[1, 2, 4, 6, 7, 8, 10, 11, 13, 14]\n",
      "['1', '4', ',', '8', ',', '7', '8', '9', ',', '4', '5', ',', '1', '7']\n",
      "14,8,789,45,17\n",
      "['14', '8', '789', '45', '17']\n",
      "[14, 8, 789, 45, 17]\n",
      "{'a': 14, 'b': 8, 'c': 789, 'd': 45, 'e': 17}\n"
     ]
    }
   ],
   "source": [
    "x='a14b8c789d45e17'\n",
    "alphalist=[]\n",
    "intlist=[]\n",
    "intindlist=[]\n",
    "for i,x in enumerate(x):\n",
    "    if x.isalpha():\n",
    "        alphalist.append(x)\n",
    "    if x.isdigit():\n",
    "        intlist.append(x)\n",
    "        intindlist.append(i)\n",
    "print(alphalist)\n",
    "print(intlist)\n",
    "print(intindlist)\n",
    "final=[]\n",
    "for i in range(len(intindlist)): \n",
    "    if i==0:                    \n",
    "        intindlist[i]+1==intindlist[i+1] # If 1 is added to the value returned by intindlist[i] it should be equal to the value returned by the next index.\n",
    "        d=intlist[i]\n",
    "        final.append(d)\n",
    "    if i != 0:\n",
    "        if intindlist[i]-1==intindlist[i-1]:# If 1 is subtracted from the value returned by intindlist[i] it should be equal to the value returned by the previous index.\n",
    "            d=intlist[i]\n",
    "            final+=d \n",
    "        elif intindlist[i]-1!=intindlist[i-1]:\n",
    "            d=intlist[i]\n",
    "            final.append(',') #This was done so values that do not meet the earlier criteria are seperated with a comma.\n",
    "            final.append(d)\n",
    "print(final)   # ['1', '4', ',', '8', ',', '7', '8', '9', ',', '4', '5', ',', '1', '7']\n",
    "final=''.join(final) \n",
    "print(final)   # 14,8,789,45,17\n",
    "final=final.split(',')\n",
    "print(final)  # ['14', '8', '789', '45', '17']. I chose to split so 14 would have an index of zero instead of 1 having an index of zero.\n",
    "final=[int(i) for i in final]\n",
    "print(final)    #[14, 8, 789, 45, 17]\n",
    "D=dict(zip(alphalist,final))\n",
    "print(D)\n",
    "\n",
    "#Final result(works on any other arrangement of an alphanumeric string)\n",
    "#{'a': 14, 'b': 8, 'c': 789, 'd': 45, 'e': 17}"
   ]
  },
  {
   "cell_type": "code",
   "execution_count": null,
   "id": "af100fdd",
   "metadata": {},
   "outputs": [],
   "source": []
  }
 ],
 "metadata": {
  "kernelspec": {
   "display_name": "Python 3",
   "language": "python",
   "name": "python3"
  },
  "language_info": {
   "codemirror_mode": {
    "name": "ipython",
    "version": 3
   },
   "file_extension": ".py",
   "mimetype": "text/x-python",
   "name": "python",
   "nbconvert_exporter": "python",
   "pygments_lexer": "ipython3",
   "version": "3.8.8"
  }
 },
 "nbformat": 4,
 "nbformat_minor": 5
}
