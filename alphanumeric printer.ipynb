def printer(x): #takes string as argument
    
    """
    The code seperates the string into digits, alphabets and the indices of the digits.
    It works on the premise that if the index of the digit under consideration is one more than the index of the digit
    before it , the digits are printed together until a digit comes along that does not meet the condition. When that happens,
    a comma is introduced and the loop continues.
    After, the list of alphabets and final(which contains the list of the sorted digits) are zipped together.
    """
    
    alphalist=[x for i,x in enumerate(x) if x.isalpha()] #takes alphabets in string into a list
    intlist=[x for i,x in enumerate(x) if x.isdigit()] #takes digits in string into a list
    intindlist=[i for i,x in enumerate(x) if x.isdigit()]  #takes indices of digits in string into a list

    final=[intlist[0]] #starts by appending first digit into list
    for i in range(1,len(intindlist)): 
            d=intlist[i]
            if intindlist[i]-1==intindlist[i-1]:# If 1 is subtracted from the value returned by 
                                                # intindlist[i] it should be equal to the previous value in the list.
                    
                final+=d                        # we append d=intlist[i] into final 
            elif intindlist[i]-1!=intindlist[i-1]:
                final.append(',') # Values that do not meet the earlier criteria are seperated with a comma.
                final.append(d)
                
    final=[int(i) for i in ''.join(final).split(',')]  #join final into one string and split into seprrate strings based on commas
    D=dict(zip(alphalist,final))
    return D

