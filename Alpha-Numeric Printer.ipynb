{
 "cells": [
  {
   "cell_type": "code",
   "execution_count": null,
   "id": "6147956e",
   "metadata": {},
   "outputs": [],
   "source": [
    "def printer(x): #takes string as argument\n",
    "    \n",
    "    \"\"\"The code seperates the string into digits, alphabets and the indices of the digits.\n",
    "    It works on the premise that if the index of the digit under consideration is one more than the index of the digit\n",
    "    before it , the digits are printed together until a digit comes along that does not meet the condition.When that happens,\n",
    "    a comma is introduced and the loop continues.\n",
    "    After, the list of alphabets and final(which contains the list of the sorted digits) are zipped together.\n",
    "    \"\"\"\n",
    "    \n",
    "    alphalist=[x for i,x in enumerate(x) if x.isalpha()] #takes alphabets in string into a list\n",
    "    intlist=[x for i,x in enumerate(x) if x.isdigit()] #takes digits in string into a list\n",
    "    intindlist=[i for i,x in enumerate(x) if x.isdigit()]  #takes indices of digits in string into a list\n",
    "\n",
    "    final=[intlist[0]] #starts by appending first digit into list\n",
    "    for i in range(1,len(intindlist)): \n",
    "            d=intlist[i]\n",
    "            if intindlist[i]-1==intindlist[i-1]:# If 1 is subtracted from the value returned by \n",
    "                                                # intindlist[i] it should be equal to the previous value in the list.\n",
    "                    \n",
    "                final+=d                        # we append d=intlist[i] into final \n",
    "            elif intindlist[i]-1!=intindlist[i-1]:\n",
    "                final.append(',') # Values that do not meet the earlier criteria are seperated with a comma.\n",
    "                final.append(d)\n",
    "                \n",
    "    final=[int(i) for i in ''.join(final).split(',')]  #join final into one string and split into seprrate strings based on commas\n",
    "    D=dict(zip(alphalist,final))\n",
    "    return D"
   ]
  }
 ],
 "metadata": {
  "kernelspec": {
   "display_name": "Python 3 (ipykernel)",
   "language": "python",
   "name": "python3"
  },
  "language_info": {
   "codemirror_mode": {
    "name": "ipython",
    "version": 3
   },
   "file_extension": ".py",
   "mimetype": "text/x-python",
   "name": "python",
   "nbconvert_exporter": "python",
   "pygments_lexer": "ipython3",
   "version": "3.9.7"
  }
 },
 "nbformat": 4,
 "nbformat_minor": 5
}
